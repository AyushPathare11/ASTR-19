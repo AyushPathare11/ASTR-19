{
 "cells": [
  {
   "cell_type": "code",
   "execution_count": 5,
   "id": "43fa0c63-7f00-4395-85d6-371903963400",
   "metadata": {},
   "outputs": [],
   "source": [
    "import numpy as np\n",
    "import matplotlib.pyplot as plt"
   ]
  },
  {
   "cell_type": "code",
   "execution_count": 6,
   "id": "78ccbcfe-ef31-43f0-acb3-2664b2282afd",
   "metadata": {
    "tags": []
   },
   "outputs": [],
   "source": [
    "mean = 0\n",
    "std_dev = 1\n",
    "random_numbers = np.random.normal(mean, std_dev, 1000)"
   ]
  },
  {
   "cell_type": "code",
   "execution_count": 7,
   "id": "437beeb8-9d09-4a48-9c3c-77df3c1d62e3",
   "metadata": {},
   "outputs": [],
   "source": [
    "plt.figure(figsize=(10, 6))\n",
    "plt.hist(random_numbers, bins=100, color='lightgreen', edgecolor='black')\n",
    "plt.title('Histogram of Normally Distributed Random Numbers')\n",
    "plt.xlabel('Value')\n",
    "plt.ylabel('Frequency')\n",
    "plt.savefig('normal_random_histogram.pdf')\n",
    "plt.show()"
   ]
  }
 ],
 "metadata": {
  "kernelspec": {
   "display_name": "ASTR 19",
   "language": "python",
   "name": "astr19"
  },
  "language_info": {
   "codemirror_mode": {
    "name": "ipython",
    "version": 3
   },
   "file_extension": ".py",
   "mimetype": "text/x-python",
   "name": "python",
   "nbconvert_exporter": "python",
   "pygments_lexer": "ipython3",
   "version": "3.10.12"
  }
 },
 "nbformat": 4,
 "nbformat_minor": 5
}
