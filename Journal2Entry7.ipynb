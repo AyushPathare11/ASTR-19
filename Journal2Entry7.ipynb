{
 "cells": [
  {
   "cell_type": "code",
   "execution_count": 5,
   "id": "43fa0c63-7f00-4395-85d6-371903963400",
   "metadata": {},
   "outputs": [],
   "source": [
    "import numpy as np\n",
    "import matplotlib.pyplot as plt"
   ]
  },
  {
   "cell_type": "code",
   "execution_count": 6,
   "id": "78ccbcfe-ef31-43f0-acb3-2664b2282afd",
   "metadata": {
    "tags": []
   },
   "outputs": [],
   "source": [
    "x = np.linspace(0, 1, 100)"
   ]
  },
  {
   "cell_type": "code",
   "execution_count": 7,
   "id": "437beeb8-9d09-4a48-9c3c-77df3c1d62e3",
   "metadata": {},
   "outputs": [],
   "source": [
    "def exp_function(x):\n",
    "    return np.exp(x)"
   ]
  },
  {
   "cell_type": "code",
   "execution_count": 8,
   "id": "06eda023-6bbe-40c2-8743-3f439fd33770",
   "metadata": {},
   "outputs": [],
   "source": [
    "y = exp_function(x)\n",
    "plt.figure(figsize=(10, 6))\n",
    "plt.plot(x, y, label='y = exp(x)', color='blue')\n",
    "plt.title('Exponential Function Plot')\n",
    "plt.xlabel('Time [milliseconds]')\n",
    "plt.ylabel('Awesomeness')\n",
    "plt.legend()\n",
    "plt.grid()"
   ]
  },
  {
   "cell_type": "code",
   "execution_count": null,
   "id": "e3792715-e22c-435c-9c72-85f764103586",
   "metadata": {},
   "outputs": [],
   "source": [
    "plt.savefig('exponential_plot.pdf')\n",
    "plt.show()"
   ]
  }
 ],
 "metadata": {
  "kernelspec": {
   "display_name": "ASTR 19",
   "language": "python",
   "name": "astr19"
  },
  "language_info": {
   "codemirror_mode": {
    "name": "ipython",
    "version": 3
   },
   "file_extension": ".py",
   "mimetype": "text/x-python",
   "name": "python",
   "nbconvert_exporter": "python",
   "pygments_lexer": "ipython3",
   "version": "3.10.12"
  }
 },
 "nbformat": 4,
 "nbformat_minor": 5
}
