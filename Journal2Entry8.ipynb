{
 "cells": [
  {
   "cell_type": "code",
   "execution_count": 5,
   "id": "43fa0c63-7f00-4395-85d6-371903963400",
   "metadata": {},
   "outputs": [],
   "source": [
    "import numpy as np\n",
    "import matplotlib.pyplot as plt"
   ]
  },
  {
   "cell_type": "code",
   "execution_count": 6,
   "id": "78ccbcfe-ef31-43f0-acb3-2664b2282afd",
   "metadata": {
    "tags": []
   },
   "outputs": [],
   "source": [
    "x = np.linspace(0, 1, 100)\n",
    "\n",
    "def sin_function(x):\n",
    "    return np.sin(x)\n",
    "\n",
    "def cos_function(x):\n",
    "    return np.cos(x)"
   ]
  },
  {
   "cell_type": "code",
   "execution_count": 7,
   "id": "437beeb8-9d09-4a48-9c3c-77df3c1d62e3",
   "metadata": {},
   "outputs": [],
   "source": [
    "y_sin = sin_function(x)\n",
    "y_cos = cos_function(x)\n",
    "fig, axs = plt.subplots(1, 2, figsize=(12, 5))\n",
    "\n",
    "axs[0].plot(x, y_sin, label='sin(x)', color='blue')\n",
    "axs[0].set_title('sin(x)')\n",
    "axs[0].set_xlabel('x')\n",
    "axs[0].set_ylabel('sin(x)')\n",
    "axs[0].grid()\n",
    "\n",
    "axs[1].plot(x, y_cos, label='cos(x)', color='orange')\n",
    "axs[1].set_title('cos(x)')\n",
    "axs[1].set_xlabel('x')\n",
    "axs[1].set_ylabel('cos(x)')\n",
    "axs[1].grid()\n",
    "\n",
    "plt.tight_layout()\n",
    "plt.savefig('sin_cos_plot.pdf')\n",
    "plt.show()"
   ]
  }
 ],
 "metadata": {
  "kernelspec": {
   "display_name": "ASTR 19",
   "language": "python",
   "name": "astr19"
  },
  "language_info": {
   "codemirror_mode": {
    "name": "ipython",
    "version": 3
   },
   "file_extension": ".py",
   "mimetype": "text/x-python",
   "name": "python",
   "nbconvert_exporter": "python",
   "pygments_lexer": "ipython3",
   "version": "3.10.12"
  }
 },
 "nbformat": 4,
 "nbformat_minor": 5
}
