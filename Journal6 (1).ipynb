{
 "cells": [
  {
   "cell_type": "code",
   "execution_count": 5,
   "id": "43fa0c63-7f00-4395-85d6-371903963400",
   "metadata": {},
   "outputs": [],
   "source": [
    "%matplotlib inline\n",
    "import matplotlib.pyplot as plt\n",
    "import numpy as np\n",
    "from astropy.table import Table \n",
    "from astropy.io import ascii \n",
    "from astropy.io import fits "
   ]
  },
  {
   "cell_type": "code",
   "execution_count": 6,
   "id": "78ccbcfe-ef31-43f0-acb3-2664b2282afd",
   "metadata": {
    "tags": []
   },
   "outputs": [],
   "source": [
    "def giveSin(x):\n",
    "    return np.sin(x)  # returns the sine of any number "
   ]
  },
  {
   "cell_type": "code",
   "execution_count": 7,
   "id": "437beeb8-9d09-4a48-9c3c-77df3c1d62e3",
   "metadata": {},
   "outputs": [],
   "source": [
    "def giveCos(x):\n",
    "    return np.cos(x)  # returns the cosine of any number"
   ]
  },
  {
   "cell_type": "code",
   "execution_count": 8,
   "id": "06eda023-6bbe-40c2-8743-3f439fd33770",
   "metadata": {},
   "outputs": [],
   "source": [
    "def tabulation():\n",
    "    x = np.arange(0, 2 * np.pi, 2 * np.pi/1000) # make 1000 iterations of x from 0 to 2 pi \n",
    "    s = giveSin(x)  #get the sin for the x value\n",
    "    c = giveCos(x)  #get the cos for the x value\n",
    "    data = Table([x,s,c], names=['x', 'sin(x)', 'cos(x)']) #put the 3 values in a table \n",
    "    ascii.write(data, 'table.txt', format='commented_header') \n",
    "    data_in = ascii.read('table.txt') "
   ]
  },
  {
   "cell_type": "code",
   "execution_count": 9,
   "id": "e3792715-e22c-435c-9c72-85f764103586",
   "metadata": {},
   "outputs": [],
   "source": [
    "def print10():\n",
    "    \n",
    "    for i in range(0,10):\n",
    "        x = i * 2 * np.pi/1000\n",
    "        s = giveSin(x)\n",
    "        c = giveCos(x)\n",
    "        print('x: ', x, '  sin(x): ', s, '  cos(x): ', c)\n"
   ]
  }
 ],
 "metadata": {
  "kernelspec": {
   "display_name": "ASTR 19",
   "language": "python",
   "name": "astr19"
  },
  "language_info": {
   "codemirror_mode": {
    "name": "ipython",
    "version": 3
   },
   "file_extension": ".py",
   "mimetype": "text/x-python",
   "name": "python",
   "nbconvert_exporter": "python",
   "pygments_lexer": "ipython3",
   "version": "3.10.12"
  }
 },
 "nbformat": 4,
 "nbformat_minor": 5
}
